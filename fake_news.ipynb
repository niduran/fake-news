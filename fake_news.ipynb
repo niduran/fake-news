{
 "cells": [
  {
   "cell_type": "code",
   "execution_count": 1,
   "metadata": {},
   "outputs": [],
   "source": [
    "import numpy as np \n",
    "import pandas as pd \n",
    "import re #Regular expression operations\n",
    "import nltk\n",
    "import matplotlib.pyplot as plt\n",
    "import seaborn as sns\n",
    "import os\n"
   ]
  },
  {
   "cell_type": "code",
   "execution_count": 2,
   "metadata": {},
   "outputs": [],
   "source": [
    "from nltk.corpus import stopwords\n",
    "from nltk.stem import WordNetLemmatizer\n",
    "from sklearn.model_selection import train_test_split\n",
    "from sklearn.pipeline import Pipeline\n",
    "from sklearn.feature_extraction.text import CountVectorizer\n",
    "from sklearn.feature_extraction.text import TfidfTransformer\n",
    "from sklearn.feature_extraction.text import TfidfVectorizer\n",
    "from sklearn.linear_model import LogisticRegression\n",
    "from sklearn.linear_model import PassiveAggressiveClassifier\n",
    "from sklearn.naive_bayes import MultinomialNB\n",
    "from sklearn.ensemble import RandomForestClassifier\n",
    "from sklearn.metrics import accuracy_score, confusion_matrix, classification_report\n",
    "from sklearn.model_selection import cross_val_score\n",
    "from sklearn import svm"
   ]
  },
  {
   "cell_type": "code",
   "execution_count": 3,
   "metadata": {},
   "outputs": [],
   "source": [
    "def lemmatizacija(data):\n",
    "    for index,row in data.iterrows():\n",
    "        filter_sentence = ''\n",
    "        sentence = row['all']\n",
    "        sentence = re.sub(r'[^\\w\\s]','',sentence)\n",
    "        words = nltk.word_tokenize(sentence)\n",
    "        words = [w for w in words if not w in stop_words]  #stopwords removal\n",
    "\n",
    "        for word in words:\n",
    "            filter_sentence = filter_sentence + ' ' + str(lemmatizer.lemmatize(word)).lower()\n",
    "\n",
    "        data.loc[index,'all'] = filter_sentence\n",
    "        "
   ]
  },
  {
   "cell_type": "code",
   "execution_count": 4,
   "metadata": {},
   "outputs": [],
   "source": [
    "train_data=pd.read_csv('../fake-news/train.csv')\n",
    "test_data=pd.read_csv('../fake-news/test.csv')"
   ]
  },
  {
   "cell_type": "code",
   "execution_count": 5,
   "metadata": {},
   "outputs": [
    {
     "name": "stdout",
     "output_type": "stream",
     "text": [
      "train_data_shape\n",
      "(20800, 5)\n",
      "test_data_shape\n",
      "(5200, 4)\n"
     ]
    }
   ],
   "source": [
    "print('train_data_shape')\n",
    "print(train_data.shape)\n",
    "print('test_data_shape')\n",
    "print(test_data.shape)\n"
   ]
  },
  {
   "cell_type": "code",
   "execution_count": 6,
   "metadata": {},
   "outputs": [
    {
     "data": {
      "text/html": [
       "<div>\n",
       "<style scoped>\n",
       "    .dataframe tbody tr th:only-of-type {\n",
       "        vertical-align: middle;\n",
       "    }\n",
       "\n",
       "    .dataframe tbody tr th {\n",
       "        vertical-align: top;\n",
       "    }\n",
       "\n",
       "    .dataframe thead th {\n",
       "        text-align: right;\n",
       "    }\n",
       "</style>\n",
       "<table border=\"1\" class=\"dataframe\">\n",
       "  <thead>\n",
       "    <tr style=\"text-align: right;\">\n",
       "      <th></th>\n",
       "      <th>id</th>\n",
       "      <th>title</th>\n",
       "      <th>author</th>\n",
       "      <th>text</th>\n",
       "      <th>label</th>\n",
       "    </tr>\n",
       "  </thead>\n",
       "  <tbody>\n",
       "    <tr>\n",
       "      <td>0</td>\n",
       "      <td>0</td>\n",
       "      <td>House Dem Aide: We Didn’t Even See Comey’s Let...</td>\n",
       "      <td>Darrell Lucus</td>\n",
       "      <td>House Dem Aide: We Didn’t Even See Comey’s Let...</td>\n",
       "      <td>1</td>\n",
       "    </tr>\n",
       "    <tr>\n",
       "      <td>1</td>\n",
       "      <td>1</td>\n",
       "      <td>FLYNN: Hillary Clinton, Big Woman on Campus - ...</td>\n",
       "      <td>Daniel J. Flynn</td>\n",
       "      <td>Ever get the feeling your life circles the rou...</td>\n",
       "      <td>0</td>\n",
       "    </tr>\n",
       "    <tr>\n",
       "      <td>2</td>\n",
       "      <td>2</td>\n",
       "      <td>Why the Truth Might Get You Fired</td>\n",
       "      <td>Consortiumnews.com</td>\n",
       "      <td>Why the Truth Might Get You Fired October 29, ...</td>\n",
       "      <td>1</td>\n",
       "    </tr>\n",
       "    <tr>\n",
       "      <td>3</td>\n",
       "      <td>3</td>\n",
       "      <td>15 Civilians Killed In Single US Airstrike Hav...</td>\n",
       "      <td>Jessica Purkiss</td>\n",
       "      <td>Videos 15 Civilians Killed In Single US Airstr...</td>\n",
       "      <td>1</td>\n",
       "    </tr>\n",
       "    <tr>\n",
       "      <td>4</td>\n",
       "      <td>4</td>\n",
       "      <td>Iranian woman jailed for fictional unpublished...</td>\n",
       "      <td>Howard Portnoy</td>\n",
       "      <td>Print \\nAn Iranian woman has been sentenced to...</td>\n",
       "      <td>1</td>\n",
       "    </tr>\n",
       "  </tbody>\n",
       "</table>\n",
       "</div>"
      ],
      "text/plain": [
       "   id                                              title              author  \\\n",
       "0   0  House Dem Aide: We Didn’t Even See Comey’s Let...       Darrell Lucus   \n",
       "1   1  FLYNN: Hillary Clinton, Big Woman on Campus - ...     Daniel J. Flynn   \n",
       "2   2                  Why the Truth Might Get You Fired  Consortiumnews.com   \n",
       "3   3  15 Civilians Killed In Single US Airstrike Hav...     Jessica Purkiss   \n",
       "4   4  Iranian woman jailed for fictional unpublished...      Howard Portnoy   \n",
       "\n",
       "                                                text  label  \n",
       "0  House Dem Aide: We Didn’t Even See Comey’s Let...      1  \n",
       "1  Ever get the feeling your life circles the rou...      0  \n",
       "2  Why the Truth Might Get You Fired October 29, ...      1  \n",
       "3  Videos 15 Civilians Killed In Single US Airstr...      1  \n",
       "4  Print \\nAn Iranian woman has been sentenced to...      1  "
      ]
     },
     "execution_count": 6,
     "metadata": {},
     "output_type": "execute_result"
    }
   ],
   "source": [
    "train_data.head(5)\n"
   ]
  },
  {
   "cell_type": "code",
   "execution_count": 7,
   "metadata": {},
   "outputs": [
    {
     "data": {
      "text/html": [
       "<div>\n",
       "<style scoped>\n",
       "    .dataframe tbody tr th:only-of-type {\n",
       "        vertical-align: middle;\n",
       "    }\n",
       "\n",
       "    .dataframe tbody tr th {\n",
       "        vertical-align: top;\n",
       "    }\n",
       "\n",
       "    .dataframe thead th {\n",
       "        text-align: right;\n",
       "    }\n",
       "</style>\n",
       "<table border=\"1\" class=\"dataframe\">\n",
       "  <thead>\n",
       "    <tr style=\"text-align: right;\">\n",
       "      <th></th>\n",
       "      <th>id</th>\n",
       "      <th>title</th>\n",
       "      <th>author</th>\n",
       "      <th>text</th>\n",
       "    </tr>\n",
       "  </thead>\n",
       "  <tbody>\n",
       "    <tr>\n",
       "      <td>0</td>\n",
       "      <td>20800</td>\n",
       "      <td>Specter of Trump Loosens Tongues, if Not Purse...</td>\n",
       "      <td>David Streitfeld</td>\n",
       "      <td>PALO ALTO, Calif.  —   After years of scorning...</td>\n",
       "    </tr>\n",
       "    <tr>\n",
       "      <td>1</td>\n",
       "      <td>20801</td>\n",
       "      <td>Russian warships ready to strike terrorists ne...</td>\n",
       "      <td>NaN</td>\n",
       "      <td>Russian warships ready to strike terrorists ne...</td>\n",
       "    </tr>\n",
       "    <tr>\n",
       "      <td>2</td>\n",
       "      <td>20802</td>\n",
       "      <td>#NoDAPL: Native American Leaders Vow to Stay A...</td>\n",
       "      <td>Common Dreams</td>\n",
       "      <td>Videos #NoDAPL: Native American Leaders Vow to...</td>\n",
       "    </tr>\n",
       "    <tr>\n",
       "      <td>3</td>\n",
       "      <td>20803</td>\n",
       "      <td>Tim Tebow Will Attempt Another Comeback, This ...</td>\n",
       "      <td>Daniel Victor</td>\n",
       "      <td>If at first you don’t succeed, try a different...</td>\n",
       "    </tr>\n",
       "    <tr>\n",
       "      <td>4</td>\n",
       "      <td>20804</td>\n",
       "      <td>Keiser Report: Meme Wars (E995)</td>\n",
       "      <td>Truth Broadcast Network</td>\n",
       "      <td>42 mins ago 1 Views 0 Comments 0 Likes 'For th...</td>\n",
       "    </tr>\n",
       "  </tbody>\n",
       "</table>\n",
       "</div>"
      ],
      "text/plain": [
       "      id                                              title  \\\n",
       "0  20800  Specter of Trump Loosens Tongues, if Not Purse...   \n",
       "1  20801  Russian warships ready to strike terrorists ne...   \n",
       "2  20802  #NoDAPL: Native American Leaders Vow to Stay A...   \n",
       "3  20803  Tim Tebow Will Attempt Another Comeback, This ...   \n",
       "4  20804                    Keiser Report: Meme Wars (E995)   \n",
       "\n",
       "                    author                                               text  \n",
       "0         David Streitfeld  PALO ALTO, Calif.  —   After years of scorning...  \n",
       "1                      NaN  Russian warships ready to strike terrorists ne...  \n",
       "2            Common Dreams  Videos #NoDAPL: Native American Leaders Vow to...  \n",
       "3            Daniel Victor  If at first you don’t succeed, try a different...  \n",
       "4  Truth Broadcast Network  42 mins ago 1 Views 0 Comments 0 Likes 'For th...  "
      ]
     },
     "execution_count": 7,
     "metadata": {},
     "output_type": "execute_result"
    }
   ],
   "source": [
    "test_data.head(5)"
   ]
  },
  {
   "cell_type": "code",
   "execution_count": 8,
   "metadata": {},
   "outputs": [
    {
     "name": "stdout",
     "output_type": "stream",
     "text": [
      "Train dataset is null\n",
      "id           0\n",
      "title      558\n",
      "author    1957\n",
      "text        39\n",
      "label        0\n",
      "dtype: int64\n",
      "Test dataset is null\n",
      "id          0\n",
      "title     122\n",
      "author    503\n",
      "text        7\n",
      "dtype: int64\n"
     ]
    }
   ],
   "source": [
    "print('Train dataset is null')\n",
    "print(train_data.isnull().sum())\n",
    "print('Test dataset is null')\n",
    "print(test_data.isnull().sum())"
   ]
  },
  {
   "cell_type": "code",
   "execution_count": 9,
   "metadata": {},
   "outputs": [],
   "source": [
    "train_data=train_data.fillna(' ')\n",
    "test_data=test_data.fillna(' ')"
   ]
  },
  {
   "cell_type": "code",
   "execution_count": 10,
   "metadata": {},
   "outputs": [],
   "source": [
    "train_data['all']=train_data['title']+' '+ train_data['text']\n",
    "test_data['all']=test_data['title']+' '+test_data['text']"
   ]
  },
  {
   "cell_type": "code",
   "execution_count": 11,
   "metadata": {},
   "outputs": [
    {
     "data": {
      "text/html": [
       "<div>\n",
       "<style scoped>\n",
       "    .dataframe tbody tr th:only-of-type {\n",
       "        vertical-align: middle;\n",
       "    }\n",
       "\n",
       "    .dataframe tbody tr th {\n",
       "        vertical-align: top;\n",
       "    }\n",
       "\n",
       "    .dataframe thead th {\n",
       "        text-align: right;\n",
       "    }\n",
       "</style>\n",
       "<table border=\"1\" class=\"dataframe\">\n",
       "  <thead>\n",
       "    <tr style=\"text-align: right;\">\n",
       "      <th></th>\n",
       "      <th>id</th>\n",
       "      <th>title</th>\n",
       "      <th>author</th>\n",
       "      <th>text</th>\n",
       "      <th>label</th>\n",
       "      <th>all</th>\n",
       "    </tr>\n",
       "  </thead>\n",
       "  <tbody>\n",
       "    <tr>\n",
       "      <td>0</td>\n",
       "      <td>0</td>\n",
       "      <td>House Dem Aide: We Didn’t Even See Comey’s Let...</td>\n",
       "      <td>Darrell Lucus</td>\n",
       "      <td>House Dem Aide: We Didn’t Even See Comey’s Let...</td>\n",
       "      <td>1</td>\n",
       "      <td>House Dem Aide: We Didn’t Even See Comey’s Let...</td>\n",
       "    </tr>\n",
       "    <tr>\n",
       "      <td>1</td>\n",
       "      <td>1</td>\n",
       "      <td>FLYNN: Hillary Clinton, Big Woman on Campus - ...</td>\n",
       "      <td>Daniel J. Flynn</td>\n",
       "      <td>Ever get the feeling your life circles the rou...</td>\n",
       "      <td>0</td>\n",
       "      <td>FLYNN: Hillary Clinton, Big Woman on Campus - ...</td>\n",
       "    </tr>\n",
       "    <tr>\n",
       "      <td>2</td>\n",
       "      <td>2</td>\n",
       "      <td>Why the Truth Might Get You Fired</td>\n",
       "      <td>Consortiumnews.com</td>\n",
       "      <td>Why the Truth Might Get You Fired October 29, ...</td>\n",
       "      <td>1</td>\n",
       "      <td>Why the Truth Might Get You Fired Why the Trut...</td>\n",
       "    </tr>\n",
       "    <tr>\n",
       "      <td>3</td>\n",
       "      <td>3</td>\n",
       "      <td>15 Civilians Killed In Single US Airstrike Hav...</td>\n",
       "      <td>Jessica Purkiss</td>\n",
       "      <td>Videos 15 Civilians Killed In Single US Airstr...</td>\n",
       "      <td>1</td>\n",
       "      <td>15 Civilians Killed In Single US Airstrike Hav...</td>\n",
       "    </tr>\n",
       "    <tr>\n",
       "      <td>4</td>\n",
       "      <td>4</td>\n",
       "      <td>Iranian woman jailed for fictional unpublished...</td>\n",
       "      <td>Howard Portnoy</td>\n",
       "      <td>Print \\nAn Iranian woman has been sentenced to...</td>\n",
       "      <td>1</td>\n",
       "      <td>Iranian woman jailed for fictional unpublished...</td>\n",
       "    </tr>\n",
       "  </tbody>\n",
       "</table>\n",
       "</div>"
      ],
      "text/plain": [
       "   id                                              title              author  \\\n",
       "0   0  House Dem Aide: We Didn’t Even See Comey’s Let...       Darrell Lucus   \n",
       "1   1  FLYNN: Hillary Clinton, Big Woman on Campus - ...     Daniel J. Flynn   \n",
       "2   2                  Why the Truth Might Get You Fired  Consortiumnews.com   \n",
       "3   3  15 Civilians Killed In Single US Airstrike Hav...     Jessica Purkiss   \n",
       "4   4  Iranian woman jailed for fictional unpublished...      Howard Portnoy   \n",
       "\n",
       "                                                text  label  \\\n",
       "0  House Dem Aide: We Didn’t Even See Comey’s Let...      1   \n",
       "1  Ever get the feeling your life circles the rou...      0   \n",
       "2  Why the Truth Might Get You Fired October 29, ...      1   \n",
       "3  Videos 15 Civilians Killed In Single US Airstr...      1   \n",
       "4  Print \\nAn Iranian woman has been sentenced to...      1   \n",
       "\n",
       "                                                 all  \n",
       "0  House Dem Aide: We Didn’t Even See Comey’s Let...  \n",
       "1  FLYNN: Hillary Clinton, Big Woman on Campus - ...  \n",
       "2  Why the Truth Might Get You Fired Why the Trut...  \n",
       "3  15 Civilians Killed In Single US Airstrike Hav...  \n",
       "4  Iranian woman jailed for fictional unpublished...  "
      ]
     },
     "execution_count": 11,
     "metadata": {},
     "output_type": "execute_result"
    }
   ],
   "source": [
    "train_data.head(5)"
   ]
  },
  {
   "cell_type": "code",
   "execution_count": 12,
   "metadata": {},
   "outputs": [
    {
     "name": "stdout",
     "output_type": "stream",
     "text": [
      "1    10413\n",
      "0    10387\n",
      "Name: label, dtype: int64\n"
     ]
    },
    {
     "data": {
      "text/plain": [
       "<matplotlib.axes._subplots.AxesSubplot at 0x1a5c6881b48>"
      ]
     },
     "execution_count": 12,
     "metadata": {},
     "output_type": "execute_result"
    },
    {
     "data": {
      "image/png": "[encoded data removed]",
      "text/plain": [
       "<Figure size 432x288 with 1 Axes>"
      ]
     },
     "metadata": {
      "needs_background": "light"
     },
     "output_type": "display_data"
    }
   ],
   "source": [
    "print(train_data['label'].value_counts())\n",
    "train_data['label'].value_counts().plot.bar()"
   ]
  },
  {
   "cell_type": "markdown",
   "metadata": {},
   "source": [
    "Na početku smo čelije u dataframu koje imaju NaN vrijednosti zamijenili sa blankovima. U dataset train smo dodali stupac All koji predstavlja kombinaciju title i teksta. Tekst koji imamo trebamo raspodijeliti po riječima. Za to koristimo tokenizaciju. Da bi poboljšali svoj dataset, mičemo interpunkciju i  stop-words kao što su (my, I, is, the, a). Mičemo \n",
    "interpunkcije i stavljamo da budu sve mala slova jer inače npr. riječi Friend i friend gleda kao različite riječi.\n",
    "Kako u tekstu imamo riječi koje se razlikuju samo u nastavku, tj. zbog nastavka u množini,  glagolskom vremenu, koristimo lematizaciju. "
   ]
  },
  {
   "cell_type": "code",
   "execution_count": 13,
   "metadata": {},
   "outputs": [
    {
     "name": "stderr",
     "output_type": "stream",
     "text": [
      "[nltk_data] Downloading package punkt to\n",
      "[nltk_data]     C:\\Users\\Nikolina\\AppData\\Roaming\\nltk_data...\n",
      "[nltk_data]   Package punkt is already up-to-date!\n",
      "[nltk_data] Downloading package stopwords to\n",
      "[nltk_data]     C:\\Users\\Nikolina\\AppData\\Roaming\\nltk_data...\n",
      "[nltk_data]   Package stopwords is already up-to-date!\n",
      "[nltk_data] Downloading package wordnet to\n",
      "[nltk_data]     C:\\Users\\Nikolina\\AppData\\Roaming\\nltk_data...\n",
      "[nltk_data]   Package wordnet is already up-to-date!\n",
      "[nltk_data] Downloading package wordnet to\n",
      "[nltk_data]     C:\\Users\\Nikolina\\AppData\\Roaming\\nltk_data...\n",
      "[nltk_data]   Package wordnet is already up-to-date!\n"
     ]
    },
    {
     "data": {
      "text/plain": [
       "True"
      ]
     },
     "execution_count": 13,
     "metadata": {},
     "output_type": "execute_result"
    }
   ],
   "source": [
    "nltk.download('punkt')\n",
    "nltk.download('stopwords')\n",
    "nltk.download('wordnet')\n",
    "stop_words = stopwords.words('english')\n",
    "nltk.download('wordnet')"
   ]
  },
  {
   "cell_type": "code",
   "execution_count": 14,
   "metadata": {},
   "outputs": [],
   "source": [
    "lemmatizer=WordNetLemmatizer()"
   ]
  },
  {
   "cell_type": "code",
   "execution_count": 15,
   "metadata": {},
   "outputs": [],
   "source": [
    "lemmatizacija(train_data)\n",
    "lemmatizacija(test_data)"
   ]
  },
  {
   "cell_type": "code",
   "execution_count": 16,
   "metadata": {},
   "outputs": [],
   "source": [
    "X_train=train_data['all']\n",
    "y_train=train_data['label']\n",
    "\n",
    "X_test_data=test_data['all']"
   ]
  },
  {
   "cell_type": "code",
   "execution_count": 17,
   "metadata": {},
   "outputs": [],
   "source": [
    "\n",
    "X_train, X_test, y_train, y_test=train_test_split(X_train,y_train,test_size=0.25, random_state=7, shuffle=True)"
   ]
  },
  {
   "cell_type": "markdown",
   "metadata": {},
   "source": [
    "# Logistička regresija"
   ]
  },
  {
   "cell_type": "code",
   "execution_count": 18,
   "metadata": {},
   "outputs": [
    {
     "name": "stdout",
     "output_type": "stream",
     "text": [
      "Accuracy  on test set: 0.96\n",
      "Classification Report : \n",
      "              precision    recall  f1-score   support\n",
      "\n",
      "           0       0.96      0.95      0.96      2586\n",
      "           1       0.95      0.96      0.96      2614\n",
      "\n",
      "    accuracy                           0.96      5200\n",
      "   macro avg       0.96      0.96      0.96      5200\n",
      "weighted avg       0.96      0.96      0.96      5200\n",
      "\n"
     ]
    }
   ],
   "source": [
    "pipeline = Pipeline([\n",
    "    ('vect', CountVectorizer()),\n",
    "    ('tfidf', TfidfTransformer()),\n",
    "    ('logistic', LogisticRegression(solver='liblinear'))\n",
    "])\n",
    "model=pipeline.fit(X_train, y_train)\n",
    "y_pred = model.predict(X_test)\n",
    "print('Accuracy  on test set: {:.2f}'.format(model.score(X_test, y_test)))\n",
    "print(f\"Classification Report : \\n{classification_report(y_test, y_pred)}\") \n"
   ]
  },
  {
   "cell_type": "code",
   "execution_count": 19,
   "metadata": {},
   "outputs": [
    {
     "data": {
      "text/html": [
       "<style  type=\"text/css\" >\n",
       "    #T_2f9b68b4_1547_11eb_8029_8c16453c3ca3row0_col0 {\n",
       "            background-color:  #0000ff;\n",
       "            color:  #f1f1f1;\n",
       "        }    #T_2f9b68b4_1547_11eb_8029_8c16453c3ca3row0_col1 {\n",
       "            background-color:  #e5e5ff;\n",
       "            color:  #000000;\n",
       "        }    #T_2f9b68b4_1547_11eb_8029_8c16453c3ca3row1_col0 {\n",
       "            background-color:  #e5e5ff;\n",
       "            color:  #000000;\n",
       "        }    #T_2f9b68b4_1547_11eb_8029_8c16453c3ca3row1_col1 {\n",
       "            background-color:  #0000ff;\n",
       "            color:  #f1f1f1;\n",
       "        }</style><table id=\"T_2f9b68b4_1547_11eb_8029_8c16453c3ca3\" ><thead>    <tr>        <th class=\"blank level0\" ></th>        <th class=\"col_heading level0 col0\" >0</th>        <th class=\"col_heading level0 col1\" >1</th>    </tr></thead><tbody>\n",
       "                <tr>\n",
       "                        <th id=\"T_2f9b68b4_1547_11eb_8029_8c16453c3ca3level0_row0\" class=\"row_heading level0 row0\" >0</th>\n",
       "                        <td id=\"T_2f9b68b4_1547_11eb_8029_8c16453c3ca3row0_col0\" class=\"data row0 col0\" >2467</td>\n",
       "                        <td id=\"T_2f9b68b4_1547_11eb_8029_8c16453c3ca3row0_col1\" class=\"data row0 col1\" >119</td>\n",
       "            </tr>\n",
       "            <tr>\n",
       "                        <th id=\"T_2f9b68b4_1547_11eb_8029_8c16453c3ca3level0_row1\" class=\"row_heading level0 row1\" >1</th>\n",
       "                        <td id=\"T_2f9b68b4_1547_11eb_8029_8c16453c3ca3row1_col0\" class=\"data row1 col0\" >96</td>\n",
       "                        <td id=\"T_2f9b68b4_1547_11eb_8029_8c16453c3ca3row1_col1\" class=\"data row1 col1\" >2518</td>\n",
       "            </tr>\n",
       "    </tbody></table>"
      ],
      "text/plain": [
       "<pandas.io.formats.style.Styler at 0x1a5f77003c8>"
      ]
     },
     "metadata": {},
     "output_type": "display_data"
    }
   ],
   "source": [
    "conf_matrix=confusion_matrix(y_test, y_pred)\n",
    "conf_matrix=confusion_matrix(y_test, y_pred)\n",
    "cn = sns.light_palette(\"blue\", as_cmap=True)\n",
    "x=pd.DataFrame(conf_matrix)\n",
    "x=x.style.background_gradient(cmap=cn)\n",
    "display(x)"
   ]
  },
  {
   "cell_type": "markdown",
   "metadata": {},
   "source": [
    "# Passive Aggresive Classifier"
   ]
  },
  {
   "cell_type": "code",
   "execution_count": 20,
   "metadata": {},
   "outputs": [
    {
     "name": "stdout",
     "output_type": "stream",
     "text": [
      "Accuracy  on test set: 0.96\n",
      "Classification Report : \n",
      "              precision    recall  f1-score   support\n",
      "\n",
      "           0       0.97      0.97      0.97      2586\n",
      "           1       0.97      0.97      0.97      2614\n",
      "\n",
      "    accuracy                           0.97      5200\n",
      "   macro avg       0.97      0.97      0.97      5200\n",
      "weighted avg       0.97      0.97      0.97      5200\n",
      "\n"
     ]
    }
   ],
   "source": [
    "pipeline_pac = Pipeline([\n",
    "    ('vect', CountVectorizer()),\n",
    "    ('tfidf', TfidfTransformer()),\n",
    "    ('passive aggresive', PassiveAggressiveClassifier(C = 0.5, random_state = 5))\n",
    "])\n",
    "model_pac=pipeline_pac.fit(X_train, y_train)\n",
    "y_pred = model_pac.predict(X_test)\n",
    "print('Accuracy  on test set: {:.2f}'.format(model.score(X_test, y_test)))\n",
    "print(f\"Classification Report : \\n{classification_report(y_test, y_pred)}\") \n"
   ]
  },
  {
   "cell_type": "code",
   "execution_count": 21,
   "metadata": {},
   "outputs": [
    {
     "data": {
      "text/html": [
       "<style  type=\"text/css\" >\n",
       "    #T_37f2294a_1547_11eb_b2cd_8c16453c3ca3row0_col0 {\n",
       "            background-color:  #0000ff;\n",
       "            color:  #f1f1f1;\n",
       "        }    #T_37f2294a_1547_11eb_b2cd_8c16453c3ca3row0_col1 {\n",
       "            background-color:  #e5e5ff;\n",
       "            color:  #000000;\n",
       "        }    #T_37f2294a_1547_11eb_b2cd_8c16453c3ca3row1_col0 {\n",
       "            background-color:  #e5e5ff;\n",
       "            color:  #000000;\n",
       "        }    #T_37f2294a_1547_11eb_b2cd_8c16453c3ca3row1_col1 {\n",
       "            background-color:  #0000ff;\n",
       "            color:  #f1f1f1;\n",
       "        }</style><table id=\"T_37f2294a_1547_11eb_b2cd_8c16453c3ca3\" ><thead>    <tr>        <th class=\"blank level0\" ></th>        <th class=\"col_heading level0 col0\" >0</th>        <th class=\"col_heading level0 col1\" >1</th>    </tr></thead><tbody>\n",
       "                <tr>\n",
       "                        <th id=\"T_37f2294a_1547_11eb_b2cd_8c16453c3ca3level0_row0\" class=\"row_heading level0 row0\" >0</th>\n",
       "                        <td id=\"T_37f2294a_1547_11eb_b2cd_8c16453c3ca3row0_col0\" class=\"data row0 col0\" >2516</td>\n",
       "                        <td id=\"T_37f2294a_1547_11eb_b2cd_8c16453c3ca3row0_col1\" class=\"data row0 col1\" >70</td>\n",
       "            </tr>\n",
       "            <tr>\n",
       "                        <th id=\"T_37f2294a_1547_11eb_b2cd_8c16453c3ca3level0_row1\" class=\"row_heading level0 row1\" >1</th>\n",
       "                        <td id=\"T_37f2294a_1547_11eb_b2cd_8c16453c3ca3row1_col0\" class=\"data row1 col0\" >81</td>\n",
       "                        <td id=\"T_37f2294a_1547_11eb_b2cd_8c16453c3ca3row1_col1\" class=\"data row1 col1\" >2533</td>\n",
       "            </tr>\n",
       "    </tbody></table>"
      ],
      "text/plain": [
       "<pandas.io.formats.style.Styler at 0x1a5c670d288>"
      ]
     },
     "metadata": {},
     "output_type": "display_data"
    }
   ],
   "source": [
    "conf_matrix=confusion_matrix(y_test, y_pred)\n",
    "cn = sns.light_palette(\"blue\", as_cmap=True)\n",
    "x=pd.DataFrame(conf_matrix)\n",
    "x=x.style.background_gradient(cmap=cn)\n",
    "display(x)\n"
   ]
  },
  {
   "cell_type": "markdown",
   "metadata": {},
   "source": [
    "# Naivni Bayes"
   ]
  },
  {
   "cell_type": "code",
   "execution_count": 22,
   "metadata": {},
   "outputs": [
    {
     "name": "stdout",
     "output_type": "stream",
     "text": [
      "Accuracy  on test set: 0.84\n",
      "Classification Report : \n",
      "              precision    recall  f1-score   support\n",
      "\n",
      "           0       0.76      0.99      0.86      2586\n",
      "           1       0.99      0.69      0.81      2614\n",
      "\n",
      "    accuracy                           0.84      5200\n",
      "   macro avg       0.87      0.84      0.83      5200\n",
      "weighted avg       0.87      0.84      0.83      5200\n",
      "\n"
     ]
    }
   ],
   "source": [
    "pipeline = Pipeline([\n",
    "    ('vect', CountVectorizer()),\n",
    "    ('tfidf', TfidfTransformer()),\n",
    "    ('multinomial nb', MultinomialNB())\n",
    "])\n",
    "model=pipeline.fit(X_train, y_train)\n",
    "y_pred = model.predict(X_test)\n",
    "print('Accuracy  on test set: {:.2f}'.format(model.score(X_test, y_test)))\n",
    "print(f\"Classification Report : \\n{classification_report(y_test, y_pred)}\") \n"
   ]
  },
  {
   "cell_type": "code",
   "execution_count": 23,
   "metadata": {},
   "outputs": [
    {
     "data": {
      "text/html": [
       "<style  type=\"text/css\" >\n",
       "    #T_40caa380_1547_11eb_a085_8c16453c3ca3row0_col0 {\n",
       "            background-color:  #0000ff;\n",
       "            color:  #f1f1f1;\n",
       "        }    #T_40caa380_1547_11eb_a085_8c16453c3ca3row0_col1 {\n",
       "            background-color:  #e5e5ff;\n",
       "            color:  #000000;\n",
       "        }    #T_40caa380_1547_11eb_a085_8c16453c3ca3row1_col0 {\n",
       "            background-color:  #e5e5ff;\n",
       "            color:  #000000;\n",
       "        }    #T_40caa380_1547_11eb_a085_8c16453c3ca3row1_col1 {\n",
       "            background-color:  #0000ff;\n",
       "            color:  #f1f1f1;\n",
       "        }</style><table id=\"T_40caa380_1547_11eb_a085_8c16453c3ca3\" ><thead>    <tr>        <th class=\"blank level0\" ></th>        <th class=\"col_heading level0 col0\" >0</th>        <th class=\"col_heading level0 col1\" >1</th>    </tr></thead><tbody>\n",
       "                <tr>\n",
       "                        <th id=\"T_40caa380_1547_11eb_a085_8c16453c3ca3level0_row0\" class=\"row_heading level0 row0\" >0</th>\n",
       "                        <td id=\"T_40caa380_1547_11eb_a085_8c16453c3ca3row0_col0\" class=\"data row0 col0\" >2569</td>\n",
       "                        <td id=\"T_40caa380_1547_11eb_a085_8c16453c3ca3row0_col1\" class=\"data row0 col1\" >17</td>\n",
       "            </tr>\n",
       "            <tr>\n",
       "                        <th id=\"T_40caa380_1547_11eb_a085_8c16453c3ca3level0_row1\" class=\"row_heading level0 row1\" >1</th>\n",
       "                        <td id=\"T_40caa380_1547_11eb_a085_8c16453c3ca3row1_col0\" class=\"data row1 col0\" >823</td>\n",
       "                        <td id=\"T_40caa380_1547_11eb_a085_8c16453c3ca3row1_col1\" class=\"data row1 col1\" >1791</td>\n",
       "            </tr>\n",
       "    </tbody></table>"
      ],
      "text/plain": [
       "<pandas.io.formats.style.Styler at 0x1a5fb07a048>"
      ]
     },
     "metadata": {},
     "output_type": "display_data"
    }
   ],
   "source": [
    "conf_matrix=confusion_matrix(y_test, y_pred)\n",
    "cn = sns.light_palette(\"blue\", as_cmap=True)\n",
    "x=pd.DataFrame(conf_matrix)\n",
    "x=x.style.background_gradient(cmap=cn)\n",
    "display(x)"
   ]
  },
  {
   "cell_type": "markdown",
   "metadata": {},
   "source": [
    "#  Random Forest Classifier"
   ]
  },
  {
   "cell_type": "code",
   "execution_count": 24,
   "metadata": {},
   "outputs": [
    {
     "name": "stderr",
     "output_type": "stream",
     "text": [
      "C:\\ProgramData\\Anaconda3\\lib\\site-packages\\sklearn\\ensemble\\forest.py:245: FutureWarning: The default value of n_estimators will change from 10 in version 0.20 to 100 in 0.22.\n",
      "  \"10 in version 0.20 to 100 in 0.22.\", FutureWarning)\n"
     ]
    },
    {
     "name": "stdout",
     "output_type": "stream",
     "text": [
      "Accuracy  on test set: 0.87\n",
      "Classification Report : \n",
      "              precision    recall  f1-score   support\n",
      "\n",
      "           0       0.83      0.93      0.87      2586\n",
      "           1       0.92      0.81      0.86      2614\n",
      "\n",
      "    accuracy                           0.87      5200\n",
      "   macro avg       0.87      0.87      0.87      5200\n",
      "weighted avg       0.87      0.87      0.87      5200\n",
      "\n"
     ]
    }
   ],
   "source": [
    "pipeline = Pipeline([\n",
    "    ('vect', CountVectorizer()),\n",
    "    ('tfidf', TfidfTransformer()),\n",
    "    ('randomforest', RandomForestClassifier())\n",
    "])\n",
    "model=pipeline.fit(X_train, y_train)\n",
    "y_pred = model.predict(X_test)\n",
    "print('Accuracy  on test set: {:.2f}'.format(model.score(X_test, y_test)))\n",
    "print(f\"Classification Report : \\n{classification_report(y_test, y_pred)}\") \n"
   ]
  },
  {
   "cell_type": "code",
   "execution_count": 25,
   "metadata": {},
   "outputs": [
    {
     "data": {
      "text/html": [
       "<style  type=\"text/css\" >\n",
       "    #T_4c21fc18_1547_11eb_afa3_8c16453c3ca3row0_col0 {\n",
       "            background-color:  #0000ff;\n",
       "            color:  #f1f1f1;\n",
       "        }    #T_4c21fc18_1547_11eb_afa3_8c16453c3ca3row0_col1 {\n",
       "            background-color:  #e5e5ff;\n",
       "            color:  #000000;\n",
       "        }    #T_4c21fc18_1547_11eb_afa3_8c16453c3ca3row1_col0 {\n",
       "            background-color:  #e5e5ff;\n",
       "            color:  #000000;\n",
       "        }    #T_4c21fc18_1547_11eb_afa3_8c16453c3ca3row1_col1 {\n",
       "            background-color:  #0000ff;\n",
       "            color:  #f1f1f1;\n",
       "        }</style><table id=\"T_4c21fc18_1547_11eb_afa3_8c16453c3ca3\" ><thead>    <tr>        <th class=\"blank level0\" ></th>        <th class=\"col_heading level0 col0\" >0</th>        <th class=\"col_heading level0 col1\" >1</th>    </tr></thead><tbody>\n",
       "                <tr>\n",
       "                        <th id=\"T_4c21fc18_1547_11eb_afa3_8c16453c3ca3level0_row0\" class=\"row_heading level0 row0\" >0</th>\n",
       "                        <td id=\"T_4c21fc18_1547_11eb_afa3_8c16453c3ca3row0_col0\" class=\"data row0 col0\" >2397</td>\n",
       "                        <td id=\"T_4c21fc18_1547_11eb_afa3_8c16453c3ca3row0_col1\" class=\"data row0 col1\" >189</td>\n",
       "            </tr>\n",
       "            <tr>\n",
       "                        <th id=\"T_4c21fc18_1547_11eb_afa3_8c16453c3ca3level0_row1\" class=\"row_heading level0 row1\" >1</th>\n",
       "                        <td id=\"T_4c21fc18_1547_11eb_afa3_8c16453c3ca3row1_col0\" class=\"data row1 col0\" >499</td>\n",
       "                        <td id=\"T_4c21fc18_1547_11eb_afa3_8c16453c3ca3row1_col1\" class=\"data row1 col1\" >2115</td>\n",
       "            </tr>\n",
       "    </tbody></table>"
      ],
      "text/plain": [
       "<pandas.io.formats.style.Styler at 0x1a5fb0cc288>"
      ]
     },
     "metadata": {},
     "output_type": "display_data"
    }
   ],
   "source": [
    "conf_matrix=confusion_matrix(y_test, y_pred)\n",
    "cn = sns.light_palette(\"blue\", as_cmap=True)\n",
    "x=pd.DataFrame(conf_matrix)\n",
    "x=x.style.background_gradient(cmap=cn)\n",
    "display(x)"
   ]
  },
  {
   "cell_type": "markdown",
   "metadata": {},
   "source": [
    "# Predviđanje na testnom datasetu pomoću Passive Aggresive"
   ]
  },
  {
   "cell_type": "code",
   "execution_count": 26,
   "metadata": {},
   "outputs": [],
   "source": [
    "y_test_pred = model_pac.predict(X_test_data)"
   ]
  },
  {
   "cell_type": "code",
   "execution_count": 27,
   "metadata": {},
   "outputs": [],
   "source": [
    "df_test_prediction=pd.DataFrame(y_test_pred,columns=['label'])"
   ]
  },
  {
   "cell_type": "code",
   "execution_count": 28,
   "metadata": {},
   "outputs": [
    {
     "data": {
      "text/plain": [
       "0    2608\n",
       "1    2592\n",
       "Name: label, dtype: int64"
      ]
     },
     "execution_count": 28,
     "metadata": {},
     "output_type": "execute_result"
    }
   ],
   "source": [
    "df_test_prediction['label'].value_counts()"
   ]
  },
  {
   "cell_type": "code",
   "execution_count": 29,
   "metadata": {},
   "outputs": [
    {
     "data": {
      "text/plain": [
       "<matplotlib.axes._subplots.AxesSubplot at 0x1a5f772a048>"
      ]
     },
     "execution_count": 29,
     "metadata": {},
     "output_type": "execute_result"
    },
    {
     "data": {
      "image/png": "[encoded data removed]",
      "text/plain": [
       "<Figure size 432x288 with 1 Axes>"
      ]
     },
     "metadata": {
      "needs_background": "light"
     },
     "output_type": "display_data"
    }
   ],
   "source": [
    "df_test_prediction['label'].value_counts().plot.bar()"
   ]
  }
 ],
 "metadata": {
  "kernelspec": {
   "display_name": "Python 3",
   "language": "python",
   "name": "python3"
  },
  "language_info": {
   "codemirror_mode": {
    "name": "ipython",
    "version": 3
   },
   "file_extension": ".py",
   "mimetype": "text/x-python",
   "name": "python",
   "nbconvert_exporter": "python",
   "pygments_lexer": "ipython3",
   "version": "3.7.4"
  }
 },
 "nbformat": 4,
 "nbformat_minor": 2
}
